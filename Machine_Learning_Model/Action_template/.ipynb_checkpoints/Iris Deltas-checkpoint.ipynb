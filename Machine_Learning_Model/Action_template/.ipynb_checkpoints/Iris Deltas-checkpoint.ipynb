{
 "cells": [
  {
   "cell_type": "code",
   "execution_count": 5,
   "id": "36efdd54",
   "metadata": {},
   "outputs": [],
   "source": [
    "import numpy as np\n",
    "import pandas as pd\n",
    "import os"
   ]
  },
  {
   "cell_type": "code",
   "execution_count": 18,
   "id": "a8bbcc38",
   "metadata": {},
   "outputs": [],
   "source": [
    "# Path for exported data, numpy arrays\n",
    "DATA_PATH = os.path.join('eyes_30_70') \n",
    "\n",
    "# Actions that we try to detect\n",
    "actions = np.array(['yes', 'no' ])\n",
    "\n",
    "# Thirty videos worth of data\n",
    "no_sequences = 30\n",
    "\n",
    "# Videos are going to be 30 frames in length\n",
    "sequence_length = 70\n",
    "\n",
    "\n",
    "res = np.load(os.path.join(DATA_PATH, actions[0], \"0\", \"{}.npy\".format(2)))"
   ]
  },
  {
   "cell_type": "code",
   "execution_count": 19,
   "id": "9e14bec1",
   "metadata": {},
   "outputs": [
    {
     "data": {
      "text/plain": [
       "144"
      ]
     },
     "execution_count": 19,
     "metadata": {},
     "output_type": "execute_result"
    }
   ],
   "source": [
    "len(res)\n"
   ]
  },
  {
   "cell_type": "code",
   "execution_count": 14,
   "id": "2e5690be",
   "metadata": {},
   "outputs": [],
   "source": [
    "# Path for exported data, numpy arrays\n",
    "DATA_PATH = os.path.join('TrainingScript/eyes_30_70_lm') \n",
    "\n",
    "# Actions that we try to detect\n",
    "actions = np.array(['yes', 'no' ])\n",
    "\n",
    "# Thirty videos worth of data\n",
    "no_sequences = 30\n",
    "\n",
    "# Videos are going to be 30 frames in length\n",
    "sequence_length = 70\n",
    "\n",
    "\n",
    "res = np.load(os.path.join(DATA_PATH, actions[0], \"0\", \"{}.npy\".format(2)))"
   ]
  },
  {
   "cell_type": "code",
   "execution_count": 17,
   "id": "b6fa8a4c",
   "metadata": {},
   "outputs": [
    {
     "data": {
      "text/plain": [
       "144"
      ]
     },
     "execution_count": 17,
     "metadata": {},
     "output_type": "execute_result"
    }
   ],
   "source": [
    "len(res)"
   ]
  },
  {
   "cell_type": "code",
   "execution_count": null,
   "id": "2894dd90",
   "metadata": {},
   "outputs": [],
   "source": [
    "## First 5 landmarks (15 points are the RIGHT  iris landmarks) [0:15]\n",
    "## Next 5 Lankmarks (15 points are the LEFT iris landmarks) [15:30]\n",
    "## Next 17 Landmarks (51 points are RIGHT EYE) [30:81]\n",
    "## Next 17 Lankmarks (51 points are LEFT EYE) [81:132]\n",
    "## Next 2 Landmarks (6 points are LEFT EYE ANCHORS) [132:138]\n",
    "## Next 2 Landmarks (6 points are RIGHT EYE ANCHORS) [138:144]\n"
   ]
  },
  {
   "cell_type": "code",
   "execution_count": 21,
   "id": "43641816",
   "metadata": {},
   "outputs": [
    {
     "ename": "SyntaxError",
     "evalue": "invalid syntax (Temp/ipykernel_39696/3651211915.py, line 18)",
     "output_type": "error",
     "traceback": [
      "\u001b[1;36m  File \u001b[1;32m\"C:\\Users\\kaitl\\AppData\\Local\\Temp/ipykernel_39696/3651211915.py\"\u001b[1;36m, line \u001b[1;32m18\u001b[0m\n\u001b[1;33m    for j in range(0, len(eyeAnchors), 3)\u001b[0m\n\u001b[1;37m                                         ^\u001b[0m\n\u001b[1;31mSyntaxError\u001b[0m\u001b[1;31m:\u001b[0m invalid syntax\n"
     ]
    }
   ],
   "source": [
    "def compareIrisLandmarks(irisLandmarks, eyeLandmarks, eyeAnchors):\n",
    "    deltaVals = []\n",
    "    for i in range(0, len(irisLandmarks), 3):\n",
    "        x = irisLandmarks[i]\n",
    "        y = irisLandmarks[i+1]\n",
    "        z = irisLandmarks[i+2]\n",
    "        \n",
    "        #compare to \n",
    "        for j in range(0, len(eyeLandmarks), 3):\n",
    "            x_c = eyeLandmarks[j]\n",
    "            y_c = eyeLandmarks[j+1]\n",
    "            z_c = eyeLandmarks[j+2]\n",
    "            \n",
    "            deltaVals.append(x - x_c)\n",
    "            deltaVals.append(y - y_c)\n",
    "            deltaVals.append(z - z_c)\n",
    "        \n",
    "        for j in range(0, len(eyeAnchors), 3):\n",
    "            x_c = eyeLandmarks[j]\n",
    "            y_c = eyeLandmarks[j+1]\n",
    "            z_c = eyeLandmarks[j+2]\n",
    "            \n",
    "            deltaVals.append(x - x_c)\n",
    "            deltaVals.append(y - y_c)\n",
    "            deltaVals.append(z - z_c)\n",
    "    return deltaVals\n",
    "            \n",
    "        "
   ]
  },
  {
   "cell_type": "code",
   "execution_count": 20,
   "id": "4df9d982",
   "metadata": {},
   "outputs": [
    {
     "ename": "NameError",
     "evalue": "name 'compareIrisLandmarks' is not defined",
     "output_type": "error",
     "traceback": [
      "\u001b[1;31m---------------------------------------------------------------------------\u001b[0m",
      "\u001b[1;31mNameError\u001b[0m                                 Traceback (most recent call last)",
      "\u001b[1;32m~\\AppData\\Local\\Temp/ipykernel_39696/3203253048.py\u001b[0m in \u001b[0;36m<module>\u001b[1;34m\u001b[0m\n\u001b[1;32m----> 1\u001b[1;33m \u001b[0mrightEyeDeltas\u001b[0m \u001b[1;33m=\u001b[0m \u001b[0mcompareIrisLandmarks\u001b[0m\u001b[1;33m(\u001b[0m\u001b[0mres\u001b[0m\u001b[1;33m[\u001b[0m\u001b[1;36m0\u001b[0m\u001b[1;33m:\u001b[0m\u001b[1;36m15\u001b[0m\u001b[1;33m]\u001b[0m\u001b[1;33m,\u001b[0m \u001b[0mres\u001b[0m\u001b[1;33m[\u001b[0m\u001b[1;36m30\u001b[0m\u001b[1;33m:\u001b[0m\u001b[1;36m81\u001b[0m\u001b[1;33m]\u001b[0m\u001b[1;33m,\u001b[0m \u001b[0mres\u001b[0m\u001b[1;33m[\u001b[0m\u001b[1;36m138\u001b[0m\u001b[1;33m:\u001b[0m\u001b[1;33m]\u001b[0m\u001b[1;33m)\u001b[0m\u001b[1;33m\u001b[0m\u001b[0m\n\u001b[0m",
      "\u001b[1;31mNameError\u001b[0m: name 'compareIrisLandmarks' is not defined"
     ]
    }
   ],
   "source": [
    "rightEyeDeltas = compareIrisLandmarks(res[0:15], res[30:81], res[138:])"
   ]
  },
  {
   "cell_type": "code",
   "execution_count": null,
   "id": "c6a28a39",
   "metadata": {},
   "outputs": [],
   "source": []
  }
 ],
 "metadata": {
  "kernelspec": {
   "display_name": "Python 3 (ipykernel)",
   "language": "python",
   "name": "python3"
  },
  "language_info": {
   "codemirror_mode": {
    "name": "ipython",
    "version": 3
   },
   "file_extension": ".py",
   "mimetype": "text/x-python",
   "name": "python",
   "nbconvert_exporter": "python",
   "pygments_lexer": "ipython3",
   "version": "3.7.0"
  }
 },
 "nbformat": 4,
 "nbformat_minor": 5
}
